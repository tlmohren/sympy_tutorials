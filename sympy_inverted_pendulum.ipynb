{
 "cells": [
  {
   "cell_type": "markdown",
   "metadata": {},
   "source": [
    "# Sympy inverted pendulum tutorial\n",
    "\n",
    "Deriving the state space equations for the inverted pendulum using sympy.\n",
    "\n",
    "Sympy is a well-supported package, widely used for physics and mechanics. The derivation that I'll show here can be done much more efficiently using the built in Lagrange or Kane's module, but the method I use below is hopefully a bit more intuitive for new sympy users.\n",
    "\n",
    "Examples of the native sympy method for dynamical systems: \n",
    "- https://docs.sympy.org/latest/modules/physics/mechanics/examples/lin_pend_nonmin_example.html\n",
    "- https://www.moorepants.info/blog/npendulum.html 3"
   ]
  },
  {
   "cell_type": "code",
   "execution_count": 1,
   "metadata": {},
   "outputs": [
    {
     "data": {
      "image/png": "[encoded data removed]",
      "text/plain": [
       "<Figure size 300x300 with 1 Axes>"
      ]
     },
     "metadata": {},
     "output_type": "display_data"
    }
   ],
   "source": [
    "from sympy import *\n",
    "from sympy.physics.mechanics import dynamicsymbols\n",
    "import numpy as np\n",
    "import matplotlib.pyplot as plt\n",
    "\n",
    "import functions.plot_functions as pf\n",
    "\n",
    "fig, ax0 = plt.subplots(1,1,figsize =(3,3), dpi = 100) \n",
    "pf.draw_pendulum(ax0)"
   ]
  },
  {
   "cell_type": "code",
   "execution_count": 2,
   "metadata": {},
   "outputs": [
    {
     "data": {
      "text/latex": [
       "$\\displaystyle \\left[\\begin{matrix}\\theta{\\left(t \\right)}\\\\\\frac{d}{d t} \\theta{\\left(t \\right)}\\end{matrix}\\right]$"
      ],
      "text/plain": [
       "Matrix([\n",
       "[               theta(t)],\n",
       "[Derivative(theta(t), t)]])"
      ]
     },
     "execution_count": 2,
     "metadata": {},
     "output_type": "execute_result"
    }
   ],
   "source": [
    "t, m, L, g, b = symbols('t, m L g b')\n",
    "theta, u = dynamicsymbols('theta, u') \n",
    "\n",
    "difftheta = diff(theta,t)\n",
    "d2theta = diff(difftheta,t)\n",
    "\n",
    "y = Matrix([theta, difftheta])\n",
    "y"
   ]
  },
  {
   "cell_type": "code",
   "execution_count": 3,
   "metadata": {},
   "outputs": [
    {
     "data": {
      "text/latex": [
       "$\\displaystyle \\frac{L^{2} m \\left(\\frac{d}{d t} \\theta{\\left(t \\right)}\\right)^{2}}{2} - L g m \\cos{\\left(\\theta{\\left(t \\right)} \\right)}$"
      ],
      "text/plain": [
       "L**2*m*Derivative(theta(t), t)**2/2 - L*g*m*cos(theta(t))"
      ]
     },
     "execution_count": 3,
     "metadata": {},
     "output_type": "execute_result"
    }
   ],
   "source": [
    "kinetic_energy = m/2*L**2*difftheta**2\n",
    "potential_energy = cos(theta)*m*g*L \n",
    "\n",
    "lagrange = kinetic_energy - potential_energy \n",
    "lagrange"
   ]
  },
  {
   "cell_type": "markdown",
   "metadata": {},
   "source": [
    "# Lagrange's equation\n",
    "We'll use the term Q to include the forcing and damping term ($Q=u-b\\dot{\\theta}$). \n",
    "\n",
    "$ \\frac{d}{dt}\\left( \\frac{\\partial \\mathcal{L}}{ \\partial \\dot{\\theta}}\\right) - \\frac{\\partial \\mathcal{L}}{ \\partial \\theta} = Q$"
   ]
  },
  {
   "cell_type": "code",
   "execution_count": 10,
   "metadata": {},
   "outputs": [
    {
     "data": {
      "text/latex": [
       "$\\displaystyle L^{2} m \\frac{d^{2}}{d t^{2}} \\theta{\\left(t \\right)} - L g m \\sin{\\left(\\theta{\\left(t \\right)} \\right)} + b \\frac{d}{d t} \\theta{\\left(t \\right)} - u{\\left(t \\right)}$"
      ],
      "text/plain": [
       "L**2*m*Derivative(theta(t), (t, 2)) - L*g*m*sin(theta(t)) + b*Derivative(theta(t), t) - u(t)"
      ]
     },
     "execution_count": 10,
     "metadata": {},
     "output_type": "execute_result"
    }
   ],
   "source": [
    "Q = u-b*difftheta  \n",
    "\n",
    "EOM = diff(diff( lagrange, difftheta),t) - diff(lagrange, theta) - Q\n",
    "EOM"
   ]
  },
  {
   "cell_type": "markdown",
   "metadata": {},
   "source": [
    "# Obtaining second order diff eq.\n",
    "We can group parts of the equation as a mass term (M) and all the lower order terms on the  right-hand side (RHS):\n",
    "\n",
    "$M\\frac{d^2 \\theta(t)}{dt^2} = RHS(\\theta, u)$\n",
    "\n",
    "$\\frac{d^2 \\theta(t)}{dt^2} = M^{-1} RHS(\\theta, u)$\n",
    "\n",
    "\n",
    "$\\frac{d^2 \\theta(t)}{dt^2} = f(\\theta, u)$"
   ]
  },
  {
   "cell_type": "code",
   "execution_count": 5,
   "metadata": {},
   "outputs": [
    {
     "data": {
      "text/latex": [
       "$\\displaystyle \\frac{- L g m \\sin{\\left(\\theta{\\left(t \\right)} \\right)} + b \\frac{d}{d t} \\theta{\\left(t \\right)} - u{\\left(t \\right)}}{L^{2} m}$"
      ],
      "text/plain": [
       "(-L*g*m*sin(theta(t)) + b*Derivative(theta(t), t) - u(t))/(L**2*m)"
      ]
     },
     "execution_count": 5,
     "metadata": {},
     "output_type": "execute_result"
    }
   ],
   "source": [
    "M  = diff(EOM,d2theta) \n",
    "RHS = EOM - M*d2theta   \n",
    "\n",
    "f = 1/M * RHS\n",
    "f"
   ]
  },
  {
   "cell_type": "markdown",
   "metadata": {},
   "source": [
    "# Converting equation to state space\n",
    "We now create a vector of variables that make up the state: $y=[\\theta,  \\dot{\\theta}]$\n",
    "\n",
    "Let's define F to be a function of the state and forcing u: \n",
    "\n",
    "$\\dot{y} = F(y, u)$"
   ]
  },
  {
   "cell_type": "code",
   "execution_count": 11,
   "metadata": {},
   "outputs": [
    {
     "data": {
      "text/latex": [
       "$\\displaystyle \\left[\\begin{matrix}\\frac{d}{d t} \\theta{\\left(t \\right)}\\\\\\frac{- L g m \\sin{\\left(\\theta{\\left(t \\right)} \\right)} + b \\frac{d}{d t} \\theta{\\left(t \\right)} - u{\\left(t \\right)}}{L^{2} m}\\end{matrix}\\right]$"
      ],
      "text/plain": [
       "Matrix([\n",
       "[                                           Derivative(theta(t), t)],\n",
       "[(-L*g*m*sin(theta(t)) + b*Derivative(theta(t), t) - u(t))/(L**2*m)]])"
      ]
     },
     "execution_count": 11,
     "metadata": {},
     "output_type": "execute_result"
    }
   ],
   "source": [
    "y = Matrix([theta, difftheta])\n",
    "F = Matrix([difftheta, f])\n",
    "F"
   ]
  },
  {
   "cell_type": "markdown",
   "metadata": {},
   "source": [
    "# Converting symbolic to numeric functions\n",
    "This is a two-step process:\n",
    "1. We substitute values for numeric parameters (L=1, m=1, g=10, b=0.1)\n",
    "2. We convert the symbolic equation to numeric using *Lambdify*\n",
    "\n",
    "We also define what the input array looks like:\n",
    "\n",
    "$F_{input} = [\\theta, \\dot{\\theta}, u]$"
   ]
  },
  {
   "cell_type": "code",
   "execution_count": 14,
   "metadata": {},
   "outputs": [],
   "source": [
    "parameter_dictionary = {L:1, m:1, g:10, b:0.1}\n",
    "\n",
    "F_sub = F.subs(parameter_dictionary)\n",
    "\n",
    "F_input = Matrix([theta, difftheta, u])\n",
    "\n",
    "F_numeric = lambdify(F_input, F_sub)"
   ]
  },
  {
   "cell_type": "markdown",
   "metadata": {},
   "source": [
    "# We can now test some known values:\n",
    "\n",
    "$ f([\\pi,0, 0]) = [ 0 , 0] $\n",
    "\n",
    "$ f([\\pi/2,0, 0]) = [ 0,-10 ] $\n",
    "\n",
    "$f([0,1, 0]) = [1,-0.1]$  ------ (the -0.1 is due to a 0.1 damping term)"
   ]
  },
  {
   "cell_type": "code",
   "execution_count": 13,
   "metadata": {},
   "outputs": [
    {
     "name": "stdout",
     "output_type": "stream",
     "text": [
      "[[ 0.0000000e+00]\n",
      " [-1.2246468e-15]]\n",
      "------------\n",
      "[[  0.]\n",
      " [-10.]]\n",
      "------------\n",
      "[[1. ]\n",
      " [0.1]]\n"
     ]
    }
   ],
   "source": [
    "print( F_numeric(np.pi,0,0) )\n",
    "print('------------')\n",
    "print( F_numeric(np.pi/2,0,0))\n",
    "print('------------')\n",
    "print(F_numeric(0,1,0))"
   ]
  }
 ],
 "metadata": {
  "kernelspec": {
   "display_name": "Python 3",
   "language": "python",
   "name": "python3"
  },
  "language_info": {
   "codemirror_mode": {
    "name": "ipython",
    "version": 3
   },
   "file_extension": ".py",
   "mimetype": "text/x-python",
   "name": "python",
   "nbconvert_exporter": "python",
   "pygments_lexer": "ipython3",
   "version": "3.8.2"
  }
 },
 "nbformat": 4,
 "nbformat_minor": 4
}
